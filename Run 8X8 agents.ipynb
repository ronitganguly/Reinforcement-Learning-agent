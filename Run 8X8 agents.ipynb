{
 "cells": [
  {
   "cell_type": "code",
   "execution_count": 259,
   "metadata": {},
   "outputs": [
    {
     "name": "stdout",
     "output_type": "stream",
     "text": [
      "Requirement already satisfied: kneed in c:\\users\\aloke\\anaconda3\\lib\\site-packages (0.5.1)\n",
      "Requirement already satisfied: matplotlib in c:\\users\\aloke\\anaconda3\\lib\\site-packages (from kneed) (2.2.2)\n",
      "Requirement already satisfied: numpy>=1.14.2 in c:\\users\\aloke\\anaconda3\\lib\\site-packages (from kneed) (1.17.4)\n",
      "Requirement already satisfied: scikit-learn in c:\\users\\aloke\\anaconda3\\lib\\site-packages (from kneed) (0.21.2)\n",
      "Requirement already satisfied: scipy in c:\\users\\aloke\\anaconda3\\lib\\site-packages (from kneed) (1.3.1)\n",
      "Requirement already satisfied: cycler>=0.10 in c:\\users\\aloke\\anaconda3\\lib\\site-packages (from matplotlib->kneed) (0.10.0)\n",
      "Requirement already satisfied: pyparsing!=2.0.4,!=2.1.2,!=2.1.6,>=2.0.1 in c:\\users\\aloke\\anaconda3\\lib\\site-packages (from matplotlib->kneed) (2.4.5)\n",
      "Requirement already satisfied: python-dateutil>=2.1 in c:\\users\\aloke\\anaconda3\\lib\\site-packages (from matplotlib->kneed) (2.8.1)\n",
      "Requirement already satisfied: pytz in c:\\users\\aloke\\anaconda3\\lib\\site-packages (from matplotlib->kneed) (2019.3)\n",
      "Requirement already satisfied: six>=1.10 in c:\\users\\aloke\\anaconda3\\lib\\site-packages (from matplotlib->kneed) (1.13.0)\n",
      "Requirement already satisfied: kiwisolver>=1.0.1 in c:\\users\\aloke\\anaconda3\\lib\\site-packages (from matplotlib->kneed) (1.1.0)\n",
      "Requirement already satisfied: joblib>=0.11 in c:\\users\\aloke\\anaconda3\\lib\\site-packages (from scikit-learn->kneed) (0.14.0)\n",
      "Requirement already satisfied: setuptools in c:\\users\\aloke\\anaconda3\\lib\\site-packages (from kiwisolver>=1.0.1->matplotlib->kneed) (42.0.2.post20191203)\n"
     ]
    }
   ],
   "source": [
    "!pip install kneed\n",
    "from kneed import KneeLocator #for finding the convergence point on plots\n",
    "\n",
    "random.seed(0)\n",
    "\n",
    "import pandas as pd\n",
    "from IPython.display import clear_output\n",
    "import random\n",
    "import gym\n",
    "import numpy as np\n",
    "import time\n",
    "from uofgsocsai import LochLomondEnv # load the class defining the custom Open AI Gym problem\n",
    "import os, sys\n",
    "from helpers import *\n",
    "import agent_eval\n",
    "import matplotlib.pyplot as plt\n",
    "\n",
    "import os, sys\n",
    "from copy import deepcopy \n",
    "%matplotlib inline\n",
    "import matplotlib.pyplot as plt\n",
    "from matplotlib import lines\n",
    "import networkx as nx\n",
    "from ipywidgets import interact\n",
    "import ipywidgets as widgets\n",
    "from IPython.display import display\n",
    "AIMA_TOOLBOX_ROOT=\"aima-python-uofg_v20192020b\"\n",
    "sys.path.append(AIMA_TOOLBOX_ROOT)\n",
    "\n",
    "from search import *\n",
    "from notebookutils import psource, heatmap, gaussian_kernel, show_map, final_path_colors, display_visual, plot_NQueens\n",
    "# Needed to hide warnings in the matplotlib sections\n",
    "import warnings\n",
    "warnings.filterwarnings(\"ignore\")\n",
    "\n",
    "'''\n",
    "Concepts learnt and some ideas for code taken from deeplizard.com\n",
    "Simple agent uses AIMA toolbox codes and  from ARTIFICIAL INTELLIGENCE (H/M) laboratory notebooks.\n",
    "\n",
    "\n",
    "'''"
   ]
  },
  {
   "cell_type": "markdown",
   "metadata": {},
   "source": [
    "# RL Agent:\n",
    "   ## 1) Policy \n",
    "   ## 2) qLearningAgent\n",
    "   \n",
    "   "
   ]
  },
  {
   "cell_type": "markdown",
   "metadata": {},
   "source": [
    "### Accuracy of RL agent is measured over the testing phase where learning rate is 0"
   ]
  },
  {
   "cell_type": "code",
   "execution_count": 260,
   "metadata": {},
   "outputs": [],
   "source": [
    "def policy(q_table,env):\n",
    "    '''\n",
    "    It takes the Q-table and the env shape ie loactaions and gives the policy based on the the Q-table\n",
    "    \n",
    "    '''\n",
    "    \n",
    "    \n",
    "    env.reset()\n",
    "    if q_table.shape==(64,4):              #8X8 q_table\n",
    "        policy_matrix=np.empty((64,1),dtype='U10') #initiallizing the policy matrix\n",
    "        temp_table=np.empty((64,1),dtype='U10')    #temporary table 64X1\n",
    "        count=0\n",
    "        m_table=env.desc.ravel().reshape((64,1))  #m_table contains the env.desc in 64X1\n",
    "        for x in m_table:                        #for each b'H' in m_table, assign str='H' in the temporary table\n",
    "            if x==b'H':\n",
    "                temp_table[count]='Hole'\n",
    "            elif x==b'G':                      #Goal should be also explicitely shown in the temporary table\n",
    "                temp_table[count]='Goal'\n",
    "                \n",
    "                \n",
    "            count+=1   #count incremented by 1\n",
    "            \n",
    "        count=0 #count reset to 0 so that it can be reused in the below for loops\n",
    "                \n",
    "        \n",
    "        \n",
    "        \n",
    "        \n",
    "        #Now, taking argmax from each state of q_table and storing the 0,1,2,3 in temp_table:\n",
    "        for state in q_table:\n",
    "            if temp_table[count]=='Hole' or temp_table[count]=='Goal':  #not changing the Hole and Goal in the temp_table\n",
    "                count+=1\n",
    "                \n",
    "                \n",
    "                continue  \n",
    "            \n",
    "            \n",
    "            else:\n",
    "                '''\n",
    "                Some NON-HOLE states weren't learnt at all, all the 4 columns in those states were 0s. \n",
    "                These states will contain a string: null\n",
    "                '''\n",
    "                \n",
    "                \n",
    "                if np.allclose(state,np.zeros((1,4))):    #unlearnt states set to 'null'\n",
    "                    temp_table[count]='null'\n",
    "                    count+=1\n",
    "                else:\n",
    "                \n",
    "                    temp_table[count]=np.argmax(state)  #states that were learnt\n",
    "                    count+=1\n",
    "        \n",
    "        \n",
    "        for i in range(64):\n",
    "            if temp_table[i]=='Hole' or temp_table[i]=='Goal' or temp_table[i]=='null':\n",
    "                policy_matrix[i]=temp_table[i]  #explicitely storing hole,goal and nulls\n",
    "                \n",
    "                \n",
    "                continue\n",
    "            \n",
    "            \n",
    "            if temp_table[i]=='0':     #if left\n",
    "                policy_matrix[i]='<'\n",
    "            elif temp_table[i]=='1':   #if down\n",
    "                policy_matrix[i]='down'\n",
    "            elif temp_table[i]=='2':   #if right\n",
    "                policy_matrix[i]='>'\n",
    "            elif temp_table[i]=='3':   #if up\n",
    "                policy_matrix[i]='^'\n",
    "        #print(p_table)               #debug\n",
    "        return policy_matrix.reshape((8,8)), temp_table.reshape((8,8))\n",
    "                \n",
    "                \n",
    "    "
   ]
  },
  {
   "cell_type": "code",
   "execution_count": 261,
   "metadata": {},
   "outputs": [],
   "source": [
    "def qLearningAgent(problem_id,map_name_base,max_episodes,max_iter_per_episode,exploration_rate,\\\n",
    "                   learning_rate,min_exploration_rate,max_exploration_rate,exploration_decay_rate,\\\n",
    "                   reward,reward_hole, is_stochastic, discount_rate):\n",
    "    \n",
    "    '''\n",
    "    Returns: q_table, accuracy, reward_per_episode, state_df,env. reward_per_episode is the averaged rewards gained\n",
    "    per 1000 episode, state_df gives the utility of the states for every episode. Accuracy is goal/(goal+hole) under testing phase\n",
    "    \n",
    "    \n",
    "    '''\n",
    "    \n",
    "    \n",
    "    \n",
    "    \n",
    "    env = LochLomondEnv(problem_id=problem_id, is_stochastic=is_stochastic,\\\n",
    "                        map_name_base=map_name_base, reward_hole=reward_hole,reward=reward)\n",
    "    \n",
    "    testing_phase=int(max_episodes-0.2*max_episodes)  # if max_episodes is 100,000 then testing phase will begin at episode 80,000 \n",
    "    \n",
    "    start_time=time.time()\n",
    "    env.reset()\n",
    "    q_table=np.zeros((env.observation_space.n, env.action_space.n))\n",
    "    #q_convergence=pd.DataFrame() #a df object to store the Q values of each state (64Xmax_episodes) or (16Xmax_episodes)\n",
    "\n",
    "    state_df=pd.DataFrame(index=list(range(env.observation_space.n)))\n",
    "\n",
    "    goal_count=0 #to check how many goals acieved for all episodes combined\n",
    "    hole_count=0 #to check how many holes the agent fell into for all episodes combined\n",
    "\n",
    "    episode_count=1\n",
    "    reward_per_episode=[]\n",
    "    reward_sum=0\n",
    "    for episodes in range(max_episodes):\n",
    "        state=env.reset()  #it is 0 and env.reset always returns the initial state in any map be it cartpole or frozenlake\n",
    "        done=False\n",
    "\n",
    "\n",
    "        for step in range(max_iter_per_episode):\n",
    "\n",
    "            #first agent will either explore and then leans towards exploit gradually\n",
    "            if random.uniform(0,1) > exploration_rate:\n",
    "                #it will exploit\n",
    "                action=np.argmax(q_table[state,:]) #action will be the max value in the row no (state)\n",
    "\n",
    "\n",
    "            else:\n",
    "\n",
    "                #it will explore randomly\n",
    "\n",
    "                action=env.action_space.sample()\n",
    "\n",
    "            new_state,reward,done,info=env.step(action) #once agent has decided an action, it will take the step\n",
    "            #however, due to randomness, the next_state may not be intended.\n",
    "            #result will be the next state, reward, done or not and some info(some env return info)\n",
    "\n",
    "            if episodes<testing_phase:\n",
    "\n",
    "                #learning phase\n",
    "                q_table[state, action] = q_table[state, action] * (1 - learning_rate) + \\\n",
    "                                learning_rate * (reward + discount_rate * np.max(q_table[new_state, :]))\n",
    "                state=new_state\n",
    "                reward_sum+=reward #summing reward on each step\n",
    "                if done == True:\n",
    "                    break\n",
    "\n",
    "\n",
    "\n",
    "\n",
    "            else:\n",
    "                #testing phase\n",
    "                learning_rate=0 #it will stop learning now and move on learned q_table\n",
    "                q_table[state, action] = q_table[state, action] * (1 - learning_rate) + \\\n",
    "                                learning_rate * (reward + discount_rate * np.max(q_table[new_state, :]))\n",
    "\n",
    "\n",
    "                state=new_state #after taking the action, environment returned the observation of the next state, and so agent will\n",
    "                                #go into this state.\n",
    "                reward_sum+=reward #summing reward on each step\n",
    "\n",
    "                if done == True and reward==1:\n",
    "                    goal_count+=1\n",
    "                    break\n",
    "                elif done==True and reward==reward_hole:\n",
    "                    hole_count+=1\n",
    "                    break\n",
    "\n",
    "        exploration_rate = min_exploration_rate +(max_exploration_rate - min_exploration_rate) * np.exp(-exploration_decay_rate*episodes) #hands-on intelligent agents with OpenAI Gym\n",
    "        # exploration_rate formula taken from deeplizard.com\n",
    "        \n",
    "        state_df[episodes]=np.max(q_table,axis=1)\n",
    "\n",
    "\n",
    "        if episode_count==1000:\n",
    "            reward_per_episode.append(reward_sum/episode_count)  #every 1000 episode, append the average rewards \n",
    "            reward_sum=0\n",
    "            episode_count=0\n",
    "\n",
    "        episode_count+=1\n",
    "        '''\n",
    "        q_2.append(np.mean(q_table[2]))\n",
    "\n",
    "\n",
    "        '''\n",
    "\n",
    "        #reward_per_episode.append(reward_sum) #appending the total reward gained at each episode\n",
    "\n",
    "    accuracy=(goal_count/(goal_count+hole_count)) *100\n",
    "\n",
    "    print(f\"Accuracy is overall goals achieved wrt total loss at holes AT TESTING PHASE: {accuracy}\\n\")\n",
    "\n",
    "        #-------------------------------------------------------------------Time------------------\n",
    "    end_time=time.time()-start_time\n",
    "    if q_table.shape==(64,4):\n",
    "        print(\"The time it took to train the agent in a 8X8 maze:\\n\")\n",
    "        print(time.strftime(\"%H:%M:%S\", time.gmtime(end_time)))\n",
    "    else:\n",
    "        print(\"The time it took to train the agent in a 4X4 maze:\\n\")\n",
    "        print(time.strftime(\"%H:%M:%S\", time.gmtime(end_time)))\n",
    "\n",
    "\n",
    "\n",
    "    return q_table, accuracy, reward_per_episode, state_df,env\n",
    "        \n",
    "        \n",
    "        \n"
   ]
  },
  {
   "cell_type": "markdown",
   "metadata": {},
   "source": [
    "## 8X8"
   ]
  },
  {
   "cell_type": "markdown",
   "metadata": {},
   "source": [
    "### problem ID: 0"
   ]
  },
  {
   "cell_type": "code",
   "execution_count": 262,
   "metadata": {},
   "outputs": [],
   "source": [
    "accuracy_rl=[] #to be used in bar plots\n",
    "reward_df=pd.DataFrame()"
   ]
  },
  {
   "cell_type": "code",
   "execution_count": 263,
   "metadata": {},
   "outputs": [
    {
     "name": "stdout",
     "output_type": "stream",
     "text": [
      "Accuracy is overall goals achieved wrt total loss at holes AT TESTING PHASE: 0.22710068130204392\n",
      "\n",
      "The time it took to train the agent in a 8X8 maze:\n",
      "\n",
      "00:05:21\n",
      "The accuracy at testing phase is : 0.22710068130204392\n",
      "problem_id: 0, Agent Trained. Below is the policy: \n",
      "\n",
      "[['<' '<' '<' '<' '<' 'Hole' '>' '^']\n",
      " ['<' '^' '^' '^' '^' 'down' '<' 'Hole']\n",
      " ['<' '<' '<' 'Hole' '>' '^' '>' 'down']\n",
      " ['<' '<' '^' 'down' '<' 'Hole' '>' 'down']\n",
      " ['<' '^' '^' 'Hole' '>' 'down' '^' '^']\n",
      " ['<' 'Hole' 'Hole' '>' '^' '<' 'Hole' '>']\n",
      " ['<' 'Hole' 'down' '<' 'Hole' '>' 'Hole' 'down']\n",
      " ['<' 'down' '<' 'Hole' 'Goal' 'down' 'down' 'Hole']]\n"
     ]
    }
   ],
   "source": [
    "problem_id=0\n",
    "map_name_base='8x8-base'\n",
    "max_episodes=50000\n",
    "max_iter_per_episode=200\n",
    "exploration_rate=1\n",
    "learning_rate=0.1\n",
    "min_exploration_rate=0.01  #deeplizard.com : to bind exploration_rate between 0.01 and 1\n",
    "max_exploration_rate=1\n",
    "exploration_decay_rate=0.001\n",
    "reward_hole=-0.1\n",
    "reward=1\n",
    "is_stochastic=True\n",
    "discount_rate=0.99\n",
    "        \n",
    "        \n",
    "q_table_0, accuracy_0, reward_per_episode_0, state_df_0,env=\\\n",
    "                                        qLearningAgent(problem_id,map_name_base,max_episodes,\\\n",
    "                                                    max_iter_per_episode,exploration_rate,\\\n",
    "                                                    learning_rate,min_exploration_rate,max_exploration_rate,exploration_decay_rate,\\\n",
    "                                                        reward,reward_hole, is_stochastic, discount_rate)\n",
    "print(\"The accuracy at testing phase is : {}\".format(accuracy_0))\n",
    "print(\"problem_id: 0, Agent Trained. Below is the policy: \\n\")\n",
    "print(policy(q_table_0,env)[0])"
   ]
  },
  {
   "cell_type": "code",
   "execution_count": 264,
   "metadata": {},
   "outputs": [
    {
     "name": "stdout",
     "output_type": "stream",
     "text": [
      "50\n"
     ]
    }
   ],
   "source": [
    "accuracy_rl.append(accuracy_0)\n",
    "print(len(reward_per_episode_0))\n",
    "reward_df[0]=reward_per_episode_0"
   ]
  },
  {
   "cell_type": "markdown",
   "metadata": {},
   "source": [
    "### problem ID: 1"
   ]
  },
  {
   "cell_type": "code",
   "execution_count": 265,
   "metadata": {},
   "outputs": [
    {
     "name": "stdout",
     "output_type": "stream",
     "text": [
      "Accuracy is overall goals achieved wrt total loss at holes AT TESTING PHASE: 17.468531468531467\n",
      "\n",
      "The time it took to train the agent in a 8X8 maze:\n",
      "\n",
      "00:03:57\n",
      "The accuracy at testing phase is : 17.468531468531467\n",
      "problem_id: 1, Agent Trained. Below is the policy: \n",
      "\n",
      "[['Hole' '>' '>' '>' '<' 'Hole' '>' '^']\n",
      " ['down' '^' '^' '^' '^' 'down' '<' 'Hole']\n",
      " ['^' '^' '<' 'Hole' '>' '^' '>' 'down']\n",
      " ['<' '^' '<' 'down' '<' 'Hole' '>' 'down']\n",
      " ['<' '^' '^' 'Hole' '>' 'down' '^' '^']\n",
      " ['<' 'Hole' 'Hole' '>' '^' '<' 'Hole' '>']\n",
      " ['<' 'Hole' 'down' '^' 'Hole' '>' 'Hole' '>']\n",
      " ['<' 'down' '<' 'Hole' 'null' 'Goal' 'null' 'Hole']]\n"
     ]
    }
   ],
   "source": [
    "problem_id=1\n",
    "map_name_base='8x8-base'\n",
    "max_episodes=50000\n",
    "max_iter_per_episode=200\n",
    "exploration_rate=1\n",
    "learning_rate=0.1\n",
    "min_exploration_rate=0.01  #deeplizard.com : to bind exploration_rate between 0.01 and 1\n",
    "max_exploration_rate=1\n",
    "exploration_decay_rate=0.001\n",
    "reward_hole=-0.1\n",
    "reward=1\n",
    "is_stochastic=True\n",
    "discount_rate=0.99\n",
    "        \n",
    "        \n",
    "q_table_1, accuracy_1, reward_per_episode_1, state_df_1,env=\\\n",
    "                                        qLearningAgent(problem_id,map_name_base,max_episodes,\\\n",
    "                                                    max_iter_per_episode,exploration_rate,\\\n",
    "                                                    learning_rate,min_exploration_rate,max_exploration_rate,exploration_decay_rate,\\\n",
    "                                                        reward,reward_hole, is_stochastic, discount_rate)\n",
    "print(\"The accuracy at testing phase is : {}\".format(accuracy_1))\n",
    "print(\"problem_id: 1, Agent Trained. Below is the policy: \\n\")\n",
    "print(policy(q_table_1,env)[0])"
   ]
  },
  {
   "cell_type": "code",
   "execution_count": 266,
   "metadata": {},
   "outputs": [],
   "source": [
    "accuracy_rl.append(accuracy_1)\n",
    "reward_df[1]=reward_per_episode_1"
   ]
  },
  {
   "cell_type": "markdown",
   "metadata": {},
   "source": [
    "### problem id: 2 "
   ]
  },
  {
   "cell_type": "code",
   "execution_count": 267,
   "metadata": {},
   "outputs": [
    {
     "name": "stdout",
     "output_type": "stream",
     "text": [
      "Accuracy is overall goals achieved wrt total loss at holes AT TESTING PHASE: 83.35585819731781\n",
      "\n",
      "The time it took to train the agent in a 8X8 maze:\n",
      "\n",
      "00:02:45\n",
      "The accuracy is : 83.35585819731781\n",
      "problem_id: 2, Agent Trained. Below is the policy: \n",
      "\n",
      "[['Hole' '>' '<' '<' '<' 'Hole' '>' '^']\n",
      " ['down' '<' '<' '^' '<' 'down' '<' 'Hole']\n",
      " ['<' '<' '<' 'Hole' '>' '^' '^' 'down']\n",
      " ['<' '<' '<' 'down' '<' 'Hole' '>' '^']\n",
      " ['<' '^' '^' 'Hole' '>' 'down' '^' '>']\n",
      " ['<' 'Hole' 'Hole' '^' 'down' '<' 'Hole' '>']\n",
      " ['<' 'Hole' 'down' '^' 'Hole' '>' 'Hole' '<']\n",
      " ['Goal' '<' '<' 'Hole' '>' 'down' '^' 'Hole']]\n"
     ]
    }
   ],
   "source": [
    "problem_id=2\n",
    "map_name_base='8x8-base'\n",
    "max_episodes=50000\n",
    "max_iter_per_episode=200\n",
    "exploration_rate=1\n",
    "learning_rate=0.1\n",
    "min_exploration_rate=0.01  #deeplizard.com : to bind exploration_rate between 0.01 and 1\n",
    "max_exploration_rate=1\n",
    "exploration_decay_rate=0.001\n",
    "reward_hole=-0.1\n",
    "reward=1\n",
    "is_stochastic=True\n",
    "discount_rate=0.99\n",
    "\n",
    "\n",
    "\n",
    "\n",
    "\n",
    "q_table_2, accuracy_2, reward_per_episode_2, state_df_2,env=\\\n",
    "                                        qLearningAgent(problem_id,map_name_base,max_episodes,\\\n",
    "                                                    max_iter_per_episode,exploration_rate,\\\n",
    "                                                    learning_rate,min_exploration_rate,max_exploration_rate,exploration_decay_rate,\\\n",
    "                                                        reward,reward_hole, is_stochastic, discount_rate)\n",
    "\n",
    "print(\"The accuracy is : {}\".format(accuracy_2))\n",
    "print(\"problem_id: 2, Agent Trained. Below is the policy: \\n\")\n",
    "print(policy(q_table_2,env)[0])"
   ]
  },
  {
   "cell_type": "code",
   "execution_count": 268,
   "metadata": {},
   "outputs": [],
   "source": [
    "accuracy_rl.append(accuracy_2)\n",
    "reward_df[2]=reward_per_episode_2"
   ]
  },
  {
   "cell_type": "markdown",
   "metadata": {},
   "source": [
    "### problem ID: 3"
   ]
  },
  {
   "cell_type": "code",
   "execution_count": 269,
   "metadata": {},
   "outputs": [
    {
     "name": "stdout",
     "output_type": "stream",
     "text": [
      "Accuracy is overall goals achieved wrt total loss at holes AT TESTING PHASE: 63.12871686321944\n",
      "\n",
      "The time it took to train the agent in a 8X8 maze:\n",
      "\n",
      "00:02:30\n",
      "The accuracy is : 63.12871686321944\n",
      "problem_id: 3, Agent Trained. Below is the policy: \n",
      "\n",
      "[['Hole' '>' '<' '<' '<' 'Hole' '>' '^']\n",
      " ['down' '<' '<' '^' '^' 'down' '<' 'Hole']\n",
      " ['down' '<' '<' 'Hole' '>' '^' '<' 'down']\n",
      " ['down' '<' '<' 'down' '<' 'Hole' '>' '^']\n",
      " ['<' '^' '^' 'Hole' '>' 'down' '^' '^']\n",
      " ['<' 'Hole' 'Hole' 'down' '^' '<' 'Hole' '>']\n",
      " ['<' 'Hole' '>' 'down' 'Hole' '>' 'Hole' '<']\n",
      " ['down' 'down' 'Goal' 'Hole' '^' '^' '<' 'Hole']]\n"
     ]
    }
   ],
   "source": [
    "problem_id=3\n",
    "map_name_base='8x8-base'\n",
    "max_episodes=50000\n",
    "max_iter_per_episode=200\n",
    "exploration_rate=1\n",
    "learning_rate=0.1\n",
    "min_exploration_rate=0.01  #deeplizard.com : to bind exploration_rate between 0.01 and 1\n",
    "max_exploration_rate=1\n",
    "exploration_decay_rate=0.0001 #lesser decay rate ensures more exploration\n",
    "reward_hole=-0.1\n",
    "reward=1\n",
    "is_stochastic=True\n",
    "discount_rate=0.99\n",
    "        \n",
    "q_table_3, accuracy_3, reward_per_episode_3, state_df_3,env=\\\n",
    "                                       qLearningAgent(problem_id,map_name_base,max_episodes,\\\n",
    "                                                    max_iter_per_episode,exploration_rate,\\\n",
    "                                                    learning_rate,min_exploration_rate,max_exploration_rate,exploration_decay_rate,\\\n",
    "                                                        reward,reward_hole, is_stochastic, discount_rate)\n",
    "print(\"The accuracy is : {}\".format(accuracy_3))\n",
    "print(\"problem_id: 3, Agent Trained. Below is the policy: \\n\")\n",
    "print(policy(q_table_3,env)[0])"
   ]
  },
  {
   "cell_type": "code",
   "execution_count": 270,
   "metadata": {},
   "outputs": [],
   "source": [
    "accuracy_rl.append(accuracy_3)\n",
    "reward_df[3]=reward_per_episode_3"
   ]
  },
  {
   "cell_type": "markdown",
   "metadata": {},
   "source": [
    "### problem ID: 4"
   ]
  },
  {
   "cell_type": "code",
   "execution_count": 271,
   "metadata": {},
   "outputs": [
    {
     "name": "stdout",
     "output_type": "stream",
     "text": [
      "Accuracy is overall goals achieved wrt total loss at holes AT TESTING PHASE: 61.734528566799874\n",
      "\n",
      "The time it took to train the agent in a 8X8 maze:\n",
      "\n",
      "00:03:06\n",
      "The accuracy is : 61.734528566799874\n",
      "problem_id: 4, Agent Trained. Below is the policy: \n",
      "\n",
      "[['Hole' '>' '<' '<' '<' 'Hole' '>' '^']\n",
      " ['down' '<' '<' '^' '^' 'down' '<' 'Hole']\n",
      " ['>' '<' '<' 'Hole' '>' '^' '^' 'down']\n",
      " ['<' '^' '^' 'down' '<' 'Hole' '>' '^']\n",
      " ['<' '^' '<' 'Hole' '>' 'down' '^' '^']\n",
      " ['<' 'Hole' 'Hole' '>' '^' '<' 'Hole' '>']\n",
      " ['<' 'Hole' '<' '<' 'Hole' '<' 'Hole' 'down']\n",
      " ['down' 'down' 'Goal' 'Hole' 'down' '>' 'down' 'Hole']]\n"
     ]
    }
   ],
   "source": [
    "problem_id=4\n",
    "map_name_base='8x8-base'\n",
    "max_episodes=50000\n",
    "max_iter_per_episode=200\n",
    "exploration_rate=1\n",
    "learning_rate=0.1\n",
    "min_exploration_rate=0.01  #deeplizard.com : to bind exploration_rate between 0.01 and 1\n",
    "max_exploration_rate=1\n",
    "exploration_decay_rate=0.001 #lesser decay rate ensures more exploration\n",
    "reward_hole=-0.1\n",
    "reward=1\n",
    "is_stochastic=True\n",
    "discount_rate=0.99\n",
    "        \n",
    "q_table_4, accuracy_4, reward_per_episode_4, state_df_4,env=\\\n",
    "                                        qLearningAgent(problem_id,map_name_base,max_episodes,\\\n",
    "                                                    max_iter_per_episode,exploration_rate,\\\n",
    "                                                    learning_rate,min_exploration_rate,max_exploration_rate,exploration_decay_rate,\\\n",
    "                                                        reward,reward_hole, is_stochastic, discount_rate)\n",
    "print(\"The accuracy is : {}\".format(accuracy_4))\n",
    "print(\"problem_id: 4, Agent Trained. Below is the policy: \\n\")\n",
    "print(policy(q_table_4,env)[0])"
   ]
  },
  {
   "cell_type": "code",
   "execution_count": 272,
   "metadata": {},
   "outputs": [],
   "source": [
    "accuracy_rl.append(accuracy_4)\n",
    "reward_df[4]=reward_per_episode_4"
   ]
  },
  {
   "cell_type": "markdown",
   "metadata": {},
   "source": [
    "### problem ID: 5"
   ]
  },
  {
   "cell_type": "code",
   "execution_count": 273,
   "metadata": {},
   "outputs": [
    {
     "name": "stdout",
     "output_type": "stream",
     "text": [
      "Accuracy is overall goals achieved wrt total loss at holes AT TESTING PHASE: 78.18065479364402\n",
      "\n",
      "The time it took to train the agent in a 8X8 maze:\n",
      "\n",
      "00:03:22\n",
      "The accuracy is : 78.18065479364402\n",
      "problem_id: 5, Agent Trained. Below is the policy: \n",
      "\n",
      "[['Hole' '>' '<' '<' '<' '<' '<' '^']\n",
      " ['down' '<' '<' '^' '^' '^' '<' 'Hole']\n",
      " ['<' '<' '<' 'Hole' '>' '^' '^' 'down']\n",
      " ['<' '<' '<' '^' '<' 'Hole' '>' '^']\n",
      " ['<' '^' '<' 'Hole' '>' 'down' '^' '^']\n",
      " ['<' 'Hole' 'Hole' '>' '^' '<' 'Hole' '>']\n",
      " ['<' 'Hole' 'down' '>' 'Hole' '>' 'Hole' '^']\n",
      " ['down' 'down' 'down' 'Goal' '<' 'down' 'down' 'Hole']]\n"
     ]
    }
   ],
   "source": [
    "problem_id=5\n",
    "map_name_base='8x8-base'\n",
    "max_episodes=50000\n",
    "max_iter_per_episode=200\n",
    "exploration_rate=1\n",
    "learning_rate=0.1\n",
    "min_exploration_rate=0.01  #deeplizard.com : to bind exploration_rate between 0.01 and 1\n",
    "max_exploration_rate=1\n",
    "exploration_decay_rate=0.001 #lesser decay rate ensures more exploration\n",
    "reward_hole=-0.1\n",
    "reward=1\n",
    "is_stochastic=True\n",
    "discount_rate=0.99\n",
    "        \n",
    "q_table_5, accuracy_5, reward_per_episode_5, state_df_5,env=\\\n",
    "                                        qLearningAgent(problem_id,map_name_base,max_episodes,\\\n",
    "                                                    max_iter_per_episode,exploration_rate,\\\n",
    "                                                    learning_rate,min_exploration_rate,max_exploration_rate,exploration_decay_rate,\\\n",
    "                                                    reward,reward_hole, is_stochastic, discount_rate)\n",
    "print(\"The accuracy is : {}\".format(accuracy_5))                                                        \n",
    "print(\"problem_id: 5, Agent Trained. Below is the policy: \\n\")\n",
    "print(policy(q_table_5,env)[0])"
   ]
  },
  {
   "cell_type": "code",
   "execution_count": 274,
   "metadata": {},
   "outputs": [],
   "source": [
    "accuracy_rl.append(accuracy_5)\n",
    "reward_df[5]=reward_per_episode_5"
   ]
  },
  {
   "cell_type": "markdown",
   "metadata": {},
   "source": [
    "### problem ID: 6"
   ]
  },
  {
   "cell_type": "code",
   "execution_count": 275,
   "metadata": {},
   "outputs": [
    {
     "name": "stdout",
     "output_type": "stream",
     "text": [
      "Accuracy is overall goals achieved wrt total loss at holes AT TESTING PHASE: 58.822285653874616\n",
      "\n",
      "The time it took to train the agent in a 8X8 maze:\n",
      "\n",
      "00:03:26\n",
      "\n",
      "The accuracy is : 58.822285653874616\n",
      "problem_id: 6, Agent Trained. Below is the policy: \n",
      "\n",
      "[['Hole' '>' '<' '<' '<' 'Hole' '>' '^']\n",
      " ['down' 'down' '<' '^' '^' 'down' '<' 'Hole']\n",
      " ['down' '<' '<' 'Hole' '>' '^' '^' 'down']\n",
      " ['<' '<' '<' '^' '<' 'Hole' '>' '^']\n",
      " ['<' '^' '<' 'Hole' '>' 'down' '^' '^']\n",
      " ['<' 'Hole' 'Hole' '>' '^' '<' 'Hole' '>']\n",
      " ['<' 'Hole' '>' '<' 'Hole' '^' 'Hole' '^']\n",
      " ['down' 'down' 'Goal' 'Hole' 'down' '<' '<' 'Hole']]\n"
     ]
    }
   ],
   "source": [
    "problem_id=6\n",
    "map_name_base='8x8-base'\n",
    "max_episodes=50000\n",
    "max_iter_per_episode=200\n",
    "exploration_rate=1\n",
    "learning_rate=0.1\n",
    "min_exploration_rate=0.01  #deeplizard.com : to bind exploration_rate between 0.01 and 1\n",
    "max_exploration_rate=1\n",
    "exploration_decay_rate=0.001 #lesser decay rate ensures more exploration\n",
    "reward_hole=-0.1\n",
    "reward=1\n",
    "is_stochastic=True\n",
    "discount_rate=0.99\n",
    "        \n",
    "q_table_6, accuracy_6, reward_per_episode_6, state_df_6,env=\\\n",
    "                                        qLearningAgent(problem_id,map_name_base,max_episodes,\\\n",
    "                                                    max_iter_per_episode,exploration_rate,\\\n",
    "                                                    learning_rate,min_exploration_rate,max_exploration_rate,exploration_decay_rate,\\\n",
    "                                                        reward,reward_hole, is_stochastic, discount_rate)\n",
    "print(\"\\nThe accuracy is : {}\".format(accuracy_6))\n",
    "print(\"problem_id: 6, Agent Trained. Below is the policy: \\n\")\n",
    "print(policy(q_table_6,env)[0])"
   ]
  },
  {
   "cell_type": "code",
   "execution_count": 276,
   "metadata": {},
   "outputs": [],
   "source": [
    "accuracy_rl.append(accuracy_6)\n",
    "reward_df[6]=reward_per_episode_6"
   ]
  },
  {
   "cell_type": "markdown",
   "metadata": {},
   "source": [
    "### problem ID:7"
   ]
  },
  {
   "cell_type": "code",
   "execution_count": 277,
   "metadata": {},
   "outputs": [
    {
     "name": "stdout",
     "output_type": "stream",
     "text": [
      "Accuracy is overall goals achieved wrt total loss at holes AT TESTING PHASE: 60.32790309106099\n",
      "\n",
      "The time it took to train the agent in a 8X8 maze:\n",
      "\n",
      "00:03:05\n",
      "The accuracy is : 60.32790309106099\n",
      "problem_id: 7, Agent Trained. Below is the policy: \n",
      "\n",
      "[['Hole' '>' '>' '>' '<' 'Hole' '>' '^']\n",
      " ['down' '^' '^' '^' '>' 'down' '<' 'Hole']\n",
      " ['^' '^' '<' 'Hole' '>' '^' '>' 'down']\n",
      " ['^' '^' '^' 'down' '<' 'Hole' '>' '>']\n",
      " ['<' '^' '^' 'Hole' '>' 'down' '^' '>']\n",
      " ['<' 'Hole' 'Hole' '>' '^' '<' 'Hole' '>']\n",
      " ['<' 'Hole' '>' '<' 'Hole' '<' 'Hole' '>']\n",
      " ['<' 'down' '<' 'Hole' '>' '>' '^' 'Goal']]\n"
     ]
    }
   ],
   "source": [
    "problem_id=7\n",
    "map_name_base='8x8-base'\n",
    "max_episodes=50000\n",
    "max_iter_per_episode=200\n",
    "exploration_rate=1\n",
    "learning_rate=0.1\n",
    "min_exploration_rate=0.01  #deeplizard.com : to bind exploration_rate between 0.01 and 1\n",
    "max_exploration_rate=1\n",
    "exploration_decay_rate=0.001 #lesser decay rate ensures more exploration\n",
    "reward_hole=-0.1\n",
    "reward=1\n",
    "is_stochastic=True\n",
    "discount_rate=0.99\n",
    "        \n",
    "q_table_7, accuracy_7, reward_per_episode_7, state_df_7,env=\\\n",
    "                                        qLearningAgent(problem_id,map_name_base,max_episodes,\\\n",
    "                                                    max_iter_per_episode,exploration_rate,\\\n",
    "                                                    learning_rate,min_exploration_rate,max_exploration_rate,exploration_decay_rate,\\\n",
    "                                                       reward,reward_hole, is_stochastic, discount_rate)\n",
    "print(\"The accuracy is : {}\".format(accuracy_7))\n",
    "print(\"problem_id: 7, Agent Trained. Below is the policy: \\n\")\n",
    "print(policy(q_table_7,env)[0])"
   ]
  },
  {
   "cell_type": "code",
   "execution_count": 278,
   "metadata": {},
   "outputs": [],
   "source": [
    "accuracy_rl.append(accuracy_7)\n",
    "reward_df[7]=reward_per_episode_7"
   ]
  },
  {
   "cell_type": "markdown",
   "metadata": {},
   "source": [
    "## Visualizing the average of rewards per 1000 episodes for RL agent accross 8 problems:"
   ]
  },
  {
   "cell_type": "code",
   "execution_count": 279,
   "metadata": {},
   "outputs": [
    {
     "name": "stdout",
     "output_type": "stream",
     "text": [
      "The point of convergence for the RL agent is  6000\n"
     ]
    },
    {
     "data": {
      "text/plain": [
       "Text(6000,0.3,'6000')"
      ]
     },
     "execution_count": 279,
     "metadata": {},
     "output_type": "execute_result"
    },
    {
     "data": {
      "image/png": "[encoded data removed]",
      "text/plain": [
       "<Figure size 432x288 with 1 Axes>"
      ]
     },
     "metadata": {
      "needs_background": "light"
     },
     "output_type": "display_data"
    }
   ],
   "source": [
    "\n",
    "avg_reward_rl=np.mean(reward_df.values,1) #this will be used to produce the final comparison graph\n",
    "\n",
    "\n",
    "\n",
    "\n",
    "plt.plot(list(range(0,max_episodes,1000)),avg_reward_rl)\n",
    "plt.title(\"average reward per 1000 episodes RL agent for all 8 problems\")\n",
    "plt.xlabel(\"episodes\")\n",
    "plt.ylabel(\"avg rewards\")\n",
    "plt.text(40000,0.02,\"Testing phase\")\n",
    "plt.axvline(testing_phase,color='r', linestyle='--')\n",
    "\n",
    "converge_point = KneeLocator(range(0,max_episodes,1000), avg_reward_rl, direction='increasing') #knee locator\n",
    "print(\"The point of convergence for the RL agent is \",converge_point.knee)\n",
    "plt.axvline(converge_point.knee,color='k',linestyle='--')\n",
    "plt.annotate('6000',xy=(converge_point.knee,0.3),xytext=(converge_point.knee,0.3))"
   ]
  },
  {
   "cell_type": "markdown",
   "metadata": {},
   "source": [
    "## Visualizing each problem ID of RL agent"
   ]
  },
  {
   "cell_type": "code",
   "execution_count": 280,
   "metadata": {},
   "outputs": [
    {
     "data": {
      "image/png": "[encoded data removed]",
      "text/plain": [
       "<Figure size 1008x1008 with 8 Axes>"
      ]
     },
     "metadata": {
      "needs_background": "light"
     },
     "output_type": "display_data"
    }
   ],
   "source": [
    "\n",
    "\n",
    "fig,ax=plt.subplots(nrows=4,ncols=2, figsize=(14,14))\n",
    "\n",
    "testing_phase=int(max_episodes-0.2*max_episodes)\n",
    "\n",
    "ax[0,0].plot(list(range(0,max_episodes,1000)),reward_df[0])\n",
    "ax[0,0].set_xlabel(\"episodes\")\n",
    "ax[0,0].set_ylabel(\"avg rewards\")\n",
    "ax[0,0].axvline(testing_phase,color='r', linestyle='--')\n",
    "ax[0,0].text(40000,-0.08,\"Testing phase\")\n",
    "ax[0,0].set_title(\"Problem ID 0: avg reward per 1000 episodes\")\n",
    "\n",
    "ax[0,1].plot(list(range(0,max_episodes,1000)),reward_df[1])\n",
    "ax[0,1].set_xlabel(\"episodes\")\n",
    "ax[0,1].set_ylabel(\"avg rewards\")\n",
    "ax[0,1].text(40000,0.02,\"Testing phase\")\n",
    "ax[0,1].axvline(testing_phase,color='r', linestyle='--')\n",
    "\n",
    "ax[0,1].set_title(\"Problem ID 1: avg reward per 1000 episodes\")\n",
    "\n",
    "ax[1,0].plot(list(range(0,max_episodes,1000)),reward_df[2])\n",
    "ax[1,0].set_xlabel(\"episodes\")\n",
    "ax[1,0].set_ylabel(\"avg rewards\")\n",
    "ax[1,0].text(40000,0.04,\"Testing phase\")\n",
    "ax[1,0].axvline(testing_phase,color='r', linestyle='--')\n",
    "\n",
    "ax[1,0].set_title(\"Problem ID 2: avg reward per 1000 episodes\")\n",
    "\n",
    "ax[1,1].plot(list(range(0,max_episodes,1000)),reward_df[3])\n",
    "ax[1,1].set_xlabel(\"episodes\")\n",
    "ax[1,1].set_ylabel(\"avg rewards\")\n",
    "ax[1,1].text(40000,0.02,\"Testing phase\")\n",
    "ax[1,1].axvline(testing_phase,color='r', linestyle='--')\n",
    "\n",
    "ax[1,1].set_title(\"Problem ID 3: avg reward per 1000 episodes\")\n",
    "\n",
    "ax[2,0].plot(list(range(0,max_episodes,1000)),reward_df[4])\n",
    "ax[2,0].set_xlabel(\"episodes\")\n",
    "ax[2,0].set_ylabel(\"avg rewards\")\n",
    "\n",
    "ax[2,0].axvline(testing_phase,color='r', linestyle='--')\n",
    "ax[2,0].text(40000,0.02,\"Testing phase\")\n",
    "ax[2,0].set_title(\"Problem ID 4: avg reward per 1000 episodes\")\n",
    "\n",
    "ax[2,1].plot(list(range(0,max_episodes,1000)),reward_df[5])\n",
    "ax[2,1].set_xlabel(\"episodes\")\n",
    "ax[2,1].set_ylabel(\"avg rewards\")\n",
    "ax[2,1].text(40000,0.02,\"Testing phase\")\n",
    "ax[2,1].axvline(testing_phase,color='r', linestyle='--')\n",
    "\n",
    "ax[2,1].set_title(\"Problem ID 5: avg reward per 1000 episodes\")\n",
    "\n",
    "ax[3,0].plot(list(range(0,max_episodes,1000)),reward_df[6])\n",
    "ax[3,0].set_xlabel(\"episodes\")\n",
    "ax[3,0].set_ylabel(\"avg rewards\")\n",
    "ax[3,0].text(40000,0.02,\"Testing phase\")\n",
    "ax[3,0].axvline(testing_phase,color='r', linestyle='--')\n",
    "\n",
    "ax[3,0].set_title(\"Problem ID 6: avg reward per 1000 episodes\")\n",
    "\n",
    "ax[3,1].plot(list(range(0,max_episodes,1000)),reward_df[7])\n",
    "ax[3,1].set_xlabel(\"episodes\")\n",
    "ax[3,1].set_ylabel(\"avg rewards\")\n",
    "ax[3,1].text(40000,0.02,\"Testing phase\")\n",
    "ax[3,1].axvline(testing_phase,color='r', linestyle='--')\n",
    "\n",
    "ax[3,1].set_title(\"Problem ID 7: avg reward per 1000 episodes\")\n",
    "plt.tight_layout()"
   ]
  },
  {
   "cell_type": "markdown",
   "metadata": {},
   "source": [
    "# Random Agent:"
   ]
  },
  {
   "cell_type": "code",
   "execution_count": 281,
   "metadata": {},
   "outputs": [],
   "source": [
    "\n",
    "def randomAgent(max_episode, max_iter_per_episode,problem_id,map_name_base,reward_hole,reward):   \n",
    "    env = LochLomondEnv(problem_id=problem_id, is_stochastic=False, map_name_base=map_name_base, reward_hole=reward_hole,reward=reward)\n",
    "\n",
    "\n",
    "    # Reset the random generator to a known state (for reproducibility)\n",
    "    np.random.seed(0)\n",
    "\n",
    "    flag=0\n",
    "    \n",
    "    goal_count=0 #to check how many goals acieved for all episodes combined\n",
    "    hole_count=0 #to check how many holes the agent fell into for all episodes combined\n",
    "    \n",
    "    episode_count=1\n",
    "    reward_per_episode=[]\n",
    "    rewards_per_100_episodes=[]\n",
    "    reward_sum=0\n",
    "\n",
    "    #### Run a random/senseless agent\n",
    "    for e in range(max_episodes): # iterate over episodes\n",
    "        observation = env.reset() # reset the state of the env to the starting state     \n",
    "\n",
    "        for iter in range(max_iter_per_episode):\n",
    "                \n",
    "            action = env.action_space.sample() # random sampling of actions\n",
    "            observation, reward, done, info = env.step(action) #based on random action, it will change states\n",
    "\n",
    "          # \n",
    "\n",
    "          #print(\"e,iter,reward,done =\" + str(e) + \" \" + str(iter)+ \" \" + str(reward)+ \" \" + str(done))\n",
    "\n",
    "          # Check if we are done and monitor rewards etc...\n",
    "            reward_sum+=reward\n",
    "\n",
    "            if (done and reward == 1):\n",
    "                goal_count+=1    \n",
    "                break\n",
    "            elif (done and reward==reward_hole):\n",
    "                hole_count+=1\n",
    "                break\n",
    "        if episode_count==1000:\n",
    "            reward_per_episode.append(reward_sum/episode_count)\n",
    "            reward_sum=0\n",
    "            episode_count=0\n",
    "\n",
    "        episode_count+=1\n",
    "        \n",
    "    accuracy=(goal_count/(goal_count+hole_count)) *100\n",
    "    \n",
    "    return accuracy, reward_per_episode\n",
    "\n"
   ]
  },
  {
   "cell_type": "code",
   "execution_count": 282,
   "metadata": {},
   "outputs": [],
   "source": [
    "accuracy_random=[] #to be used for bar plots"
   ]
  },
  {
   "cell_type": "markdown",
   "metadata": {},
   "source": [
    "## Problem ID: 0-7"
   ]
  },
  {
   "cell_type": "code",
   "execution_count": null,
   "metadata": {},
   "outputs": [],
   "source": []
  },
  {
   "cell_type": "code",
   "execution_count": null,
   "metadata": {},
   "outputs": [],
   "source": []
  },
  {
   "cell_type": "code",
   "execution_count": 283,
   "metadata": {},
   "outputs": [
    {
     "name": "stdout",
     "output_type": "stream",
     "text": [
      "(8, 50)\n"
     ]
    }
   ],
   "source": [
    "map_name_base='8x8-base'\n",
    "reward_hole=-0.1\n",
    "reward=1\n",
    "max_episode=50000\n",
    "max_ter_per_episode=200\n",
    "reward_np_array=np.empty((1,50))\n",
    "accuracy_random=[]\n",
    "for p_id in range(8):\n",
    "    accuracy, reward_per_episode=randomAgent(max_episode=50000,max_iter_per_episode=200,problem_id=p_id,map_name_base=map_name_base,reward_hole=reward_hole,reward=reward)\n",
    "    accuracy_random.append(accuracy)\n",
    "    reward_np_array=np.vstack((reward_per_episode,reward_np_array))\n",
    "\n",
    "reward_np_array=np.delete(reward_np_array,-1, axis=0) #deleting the last row as it was initialized to stack\n",
    "print(reward_np_array.shape) #this is random agent average reward per 1000 episodes taken over 8 problems "
   ]
  },
  {
   "cell_type": "markdown",
   "metadata": {},
   "source": [
    "## Visualizing the average of the rewards gained per 1000 episodes by the random agent accross all 8 problems:"
   ]
  },
  {
   "cell_type": "code",
   "execution_count": 284,
   "metadata": {},
   "outputs": [
    {
     "data": {
      "text/plain": [
       "(50,)"
      ]
     },
     "execution_count": 284,
     "metadata": {},
     "output_type": "execute_result"
    }
   ],
   "source": [
    "\n",
    "#print(reward_np_array)\n",
    "avg_reward_random=np.mean(reward_np_array,0) #taking mean of all the problem ids \n",
    "\n",
    "avg_reward_random.shape"
   ]
  },
  {
   "cell_type": "code",
   "execution_count": 285,
   "metadata": {},
   "outputs": [
    {
     "data": {
      "text/plain": [
       "Text(0,0.5,'avg rewards')"
      ]
     },
     "execution_count": 285,
     "metadata": {},
     "output_type": "execute_result"
    },
    {
     "data": {
      "image/png": "[encoded data removed]",
      "text/plain": [
       "<Figure size 432x288 with 1 Axes>"
      ]
     },
     "metadata": {
      "needs_background": "light"
     },
     "output_type": "display_data"
    }
   ],
   "source": [
    "plt.plot(list(range(0,max_episodes,1000)),avg_reward_random)\n",
    "plt.title(\"average reward per 1000 episodes random agent for all 8 problems\")\n",
    "plt.xlabel(\"episodes\")\n",
    "plt.ylabel(\"avg rewards\")"
   ]
  },
  {
   "cell_type": "markdown",
   "metadata": {},
   "source": [
    "# Simple Agent"
   ]
  },
  {
   "cell_type": "code",
   "execution_count": 286,
   "metadata": {},
   "outputs": [],
   "source": [
    "def my_best_first_graph_search_for_vis(problem, f):\n",
    "    \"\"\" This explains the standard A star operation. It examines which of the child nodes have the lowest f value and\n",
    "    that child node becomes the next node. Whenever the agent steps on a node, it adds that node to the explored list. \n",
    "    This list will help to trace the path back from goal to start. Also, all the expanded nodes are added to a frontier list \n",
    "    and if the child node is already there, its f cost and parent is\n",
    "    re-evaluated if found lesser than the previous path. Following this procedure, the agent reaches the goal. \n",
    "    \"\"\"\n",
    "    \n",
    "    # we use these two variables at the time of visualisations\n",
    "    iterations = 0\n",
    "        \n",
    "    f = memoize(f, 'f')\n",
    "    node = Node(problem.initial)\n",
    "    iterations += 1\n",
    "    \n",
    "    \n",
    "    if problem.goal_test(node.state):  #if node is goal, it returns the node with the iterations it took\n",
    "        iterations += 1\n",
    "        return(iterations, node)\n",
    "    \n",
    "    frontier = PriorityQueue('min', f)  #a priority queue to store the node it is visiting and add the child nodes\n",
    "                                        #in the order of ascending f, so a node will be dequeued first which has minimum f\n",
    "    frontier.append(node)               #adding the current node to frontier\n",
    "    iterations += 1\n",
    "    explored = set()                    #initializing the explored list/set which will contain checked nodes which the agent\n",
    "                                        #doesn't need to visit again.\n",
    "    \n",
    "    while frontier:                     #until frontier is not empty\n",
    "        node = frontier.pop()           #immediately pop the current node which will got to the checked/ explored set\n",
    "        iterations += 1\n",
    "        if problem.goal_test(node.state): #checking if the node is the goal\n",
    "            iterations += 1\n",
    "            return(iterations, node)\n",
    "        \n",
    "        explored.add(node.state)         #the node is added to the explored set\n",
    "        for child in node.expand(problem):              #expanding the checked node's children nodes\n",
    "            if child.state not in explored and child not in frontier: #if child node hasn't been seen ever\n",
    "                frontier.append(child)                #adding the child node to frontier priority queue for future checking\n",
    "                iterations += 1                        \n",
    "            elif child in frontier:                 #if child node was already in the frontier, checking if the cost to\n",
    "                                                     #reach this node is better than the previous \n",
    "                incumbent = frontier[child]         #previous cost\n",
    "                if f(child) < f(incumbent):        #if found better, delete the previous cost entry from frontier\n",
    "                    del frontier[incumbent]\n",
    "                    frontier.append(child)        #and add the new calculated cost as an entry in the priority queue with the new parent\n",
    "                                                    #this will help to know shortest routes \n",
    "                    iterations += 1\n",
    "        \n",
    "        iterations += 1\n",
    "        \n",
    "    return None\n",
    "\n",
    "\n",
    "def my_astar_search_graph(problem, h=None):\n",
    "    \"\"\"A* search is best-first graph search with f(n) = g(n)+h(n).\n",
    "    You need to specify the h function when you call astar_search, or\n",
    "    else in your Problem subclass.\"\"\"\n",
    "    h = memoize(h or problem.h, 'h') #h is heuristic distance to goal\n",
    "    iterations, node = my_best_first_graph_search_for_vis(problem, \n",
    "                                                                lambda n: n.path_cost + h(n)) #f=g+h\n",
    "    return(iterations,  node)\n",
    "\n",
    "\n",
    "def env2statespace(env):\n",
    "    \"\"\" \n",
    "   This is creating the maze for us by taking the Lochlomond environment. It is returning the locations of every state, \n",
    "    the possible directions an agent can move from any state, initial state and final state. also, \n",
    "    the holes are directly ignored i.e. the agent doesn't take holes into consideration.\n",
    "    \n",
    "\n",
    "    Input:\n",
    "        env: an Open AI Env follwing the std in the FrozenLake-v0 env\n",
    "\n",
    "    Output:\n",
    "        state_space_locations : a dict with the available states\n",
    "        state_space_actions   : a dict of dict with available actions in each state\n",
    "        state_start_id        : the start state\n",
    "        state_goal_id         : the goal state  \n",
    "\n",
    "        \n",
    "    \n",
    "    \"\"\"\n",
    "    state_space_locations = {} # create a dict\n",
    "    for i in range(env.desc.shape[0]):\n",
    "        for j in range(env.desc.shape[1]):   \n",
    "            if not (b'H' in env.desc[i,j]):  #ignoring the holes\n",
    "                state_id = \"S_\"+str(int(i))+\"_\"+str(int(j) ) #dictionay key for state locations\n",
    "                state_space_locations[state_id] = (int(i),int(j))   #dictionary of key-coordinate\n",
    "                if env.desc[i,j] == b'S':            # starting point\n",
    "                    state_initial_id = state_id                                                 \n",
    "                elif env.desc[i,j] == b'G':        # the goal\n",
    "                    state_goal_id = state_id                      \n",
    "\n",
    "                #-- Generate state / action list --#\n",
    "                # First define the set of actions in the defined coordinate system             \n",
    "                actions = {\"west\": [-1,0],\"east\": [+1,0],\"north\": [0,+1], \"south\": [0,-1]} #this will form our action space\n",
    "                state_space_actions = {}\n",
    "                for state_id in state_space_locations:      #for every location in state_space_location on the maze, we find out the possible actions                                 \n",
    "                    possible_states = {}\n",
    "                    for action in actions:\n",
    "                        #-- Check if a specific action is possible --#\n",
    "                        delta = actions.get(action)\n",
    "                        state_loc = state_space_locations.get(state_id)\n",
    "                        state_loc_post_action = [state_loc[0]+delta[0],state_loc[1]+delta[1]]\n",
    "\n",
    "                        #-- Check if the new possible state is in the state_space, i.e., is accessible --#\n",
    "                        state_id_post_action = \"S_\"+str(state_loc_post_action[0])+\"_\"+str(state_loc_post_action[1])                        \n",
    "                        if state_space_locations.get(state_id_post_action) != None:\n",
    "                            possible_states[state_id_post_action] = 1 \n",
    "                        \n",
    "                    #-- Add the possible actions for this state to the global dict --#                              \n",
    "                    state_space_actions[state_id] = possible_states\n",
    "\n",
    "    return state_space_locations, state_space_actions, state_initial_id, state_goal_id\n",
    "\n",
    "\n",
    "state_space_locations, state_space_actions, state_initial_id, state_goal_id = env2statespace(env)\n",
    "\n"
   ]
  },
  {
   "cell_type": "code",
   "execution_count": 287,
   "metadata": {},
   "outputs": [],
   "source": [
    "# Setup the parameters for the specific problem (you can change all of these if you want to) \n",
    "problem_id = 1        # problem_id \\in [0:7] generates 8 diffrent problems on which you can train/fine-tune your agent \n",
    "reward_hole = 0.0     # Holes ignored\n",
    "is_stochastic = False  # should be False for A-star (deterministic search) and True for the RL agent\n",
    "\n",
    "\n",
    "\n",
    "\n",
    "\n",
    "def simpleAgent( problem_id,map_name_base):   \n",
    "    env = LochLomondEnv(problem_id=problem_id, is_stochastic=False, map_name_base=map_name_base)\n",
    "\n",
    "    \n",
    "\n",
    "\n",
    "\n",
    "    # Create a dict representation of the state space\n",
    "    state_space_locations, state_space_actions, state_initial_id, state_goal_id = env2statespace(env)\n",
    "\n",
    "    # SOLUTION BEGIN\n",
    "    '''\n",
    "    UndirectedGraph() it creates the undirected maze, followed by maze_map.locations which has the locations of the problem. \n",
    "    \n",
    "    '''\n",
    "    \n",
    "    \n",
    "    maze_map = UndirectedGraph(state_space_actions) #creating the object maze of Lochlomond \n",
    "    maze_map.locations = state_space_locations #locations\n",
    "    maze_problem = GraphProblem(state_initial_id, state_goal_id, maze_map) \n",
    "    #print(maze_problem) #the np 2D matrix representing the environment: Lochlomonod \n",
    "    # SOLUTION END\n",
    "\n",
    "\n",
    "    iterations, node = my_astar_search_graph(problem=maze_problem, h=None)\n",
    "\n",
    "    #-- Trace the solution --#\n",
    "    solution_path = [node]       \n",
    "    cnode = node.parent\n",
    "    solution_path.append(cnode)\n",
    "    while cnode.state != state_initial_id: #until current_node is not equal to starting point, keep tracing\n",
    "        cnode = cnode.parent  \n",
    "        solution_path.append(cnode)\n",
    "\n",
    "\n",
    "    return iterations, solution_path"
   ]
  },
  {
   "cell_type": "markdown",
   "metadata": {},
   "source": [
    "## Problem ID 0:\n"
   ]
  },
  {
   "cell_type": "code",
   "execution_count": 288,
   "metadata": {},
   "outputs": [],
   "source": [
    "iterations_0, solution_path_0= simpleAgent( problem_id=0,map_name_base='8x8-base')"
   ]
  },
  {
   "cell_type": "markdown",
   "metadata": {},
   "source": [
    "## Problem ID 1:"
   ]
  },
  {
   "cell_type": "code",
   "execution_count": 289,
   "metadata": {},
   "outputs": [],
   "source": [
    "iterations_1, solution_path_1= simpleAgent( problem_id=1,map_name_base='8x8-base')"
   ]
  },
  {
   "cell_type": "markdown",
   "metadata": {},
   "source": [
    "## Problem ID 2:"
   ]
  },
  {
   "cell_type": "code",
   "execution_count": 290,
   "metadata": {},
   "outputs": [],
   "source": [
    "iterations_2, solution_path_2= simpleAgent( problem_id=2,map_name_base='8x8-base')"
   ]
  },
  {
   "cell_type": "markdown",
   "metadata": {},
   "source": [
    "## Problem ID: 3"
   ]
  },
  {
   "cell_type": "code",
   "execution_count": 291,
   "metadata": {},
   "outputs": [],
   "source": [
    "iterations_3, solution_path_3= simpleAgent( problem_id=3,map_name_base='8x8-base')"
   ]
  },
  {
   "cell_type": "markdown",
   "metadata": {},
   "source": [
    "## Problem ID: 4"
   ]
  },
  {
   "cell_type": "code",
   "execution_count": 292,
   "metadata": {},
   "outputs": [],
   "source": [
    "iterations_4, solution_path_4= simpleAgent( problem_id=4,map_name_base='8x8-base')"
   ]
  },
  {
   "cell_type": "markdown",
   "metadata": {},
   "source": [
    "## Problem ID: 5"
   ]
  },
  {
   "cell_type": "code",
   "execution_count": 293,
   "metadata": {},
   "outputs": [],
   "source": [
    "iterations_5, solution_path_5= simpleAgent( problem_id=5,map_name_base='8x8-base')"
   ]
  },
  {
   "cell_type": "markdown",
   "metadata": {},
   "source": [
    "## Problem ID: 6"
   ]
  },
  {
   "cell_type": "code",
   "execution_count": 294,
   "metadata": {},
   "outputs": [],
   "source": [
    "iterations_6, solution_path_6= simpleAgent( problem_id=6,map_name_base='8x8-base')"
   ]
  },
  {
   "cell_type": "markdown",
   "metadata": {},
   "source": [
    "## Problem ID: 7"
   ]
  },
  {
   "cell_type": "code",
   "execution_count": 295,
   "metadata": {},
   "outputs": [],
   "source": [
    "iterations_7, solution_path_7= simpleAgent( problem_id=7,map_name_base='8x8-base')"
   ]
  },
  {
   "cell_type": "markdown",
   "metadata": {},
   "source": [
    "## Reward will always be 1 for Simple agent since it always reaches the goal after finding it."
   ]
  },
  {
   "cell_type": "markdown",
   "metadata": {},
   "source": [
    "# Average itearion required by simple agent to reach goal is 89"
   ]
  },
  {
   "cell_type": "code",
   "execution_count": null,
   "metadata": {},
   "outputs": [],
   "source": []
  },
  {
   "cell_type": "code",
   "execution_count": 296,
   "metadata": {},
   "outputs": [],
   "source": [
    "mean_iteration_simple=(iterations_0+iterations_1+iterations_2+iterations_3+iterations_4+iterations_5+iterations_6+iterations_7)/8"
   ]
  },
  {
   "cell_type": "code",
   "execution_count": 297,
   "metadata": {},
   "outputs": [
    {
     "name": "stdout",
     "output_type": "stream",
     "text": [
      "the mean minimum iterations required is :  89\n"
     ]
    }
   ],
   "source": [
    "print(\"the mean minimum iterations required is : \",int(mean_iteration_simple))"
   ]
  },
  {
   "cell_type": "markdown",
   "metadata": {},
   "source": [
    "## Visualization:\n",
    "\n",
    "### Overall comparison of 3 agents accross 8 problem IDs:"
   ]
  },
  {
   "cell_type": "code",
   "execution_count": 298,
   "metadata": {},
   "outputs": [
    {
     "name": "stdout",
     "output_type": "stream",
     "text": [
      "The point of convergence for the RL agent is  6000\n"
     ]
    },
    {
     "data": {
      "text/plain": [
       "Text(6000,0.3,'6000')"
      ]
     },
     "execution_count": 298,
     "metadata": {},
     "output_type": "execute_result"
    },
    {
     "data": {
      "image/png": "[encoded data removed]",
      "text/plain": [
       "<Figure size 720x720 with 1 Axes>"
      ]
     },
     "metadata": {
      "needs_background": "light"
     },
     "output_type": "display_data"
    }
   ],
   "source": [
    "fig=plt.figure(figsize=(10,10))\n",
    "plt.plot(list(range(0,max_episodes,1000)),avg_reward_random, label='random agent')\n",
    "plt.plot(list(range(0,max_episodes,1000)),avg_reward_rl, label='RL agent')\n",
    "\n",
    "plt.hlines(1, 89,max_episodes, 'green',label='simple agent') #the avg itearation needed by simple agent to reach goal is 89\n",
    "plt.title(\"3 Agents for all problem Ids\")\n",
    "plt.ylabel(\"Average rewards per 1000 episodes\")\n",
    "plt.xlabel(\"Episodes\")\n",
    "plt.axvline(testing_phase,color='k', linestyle='--')\n",
    "plt.text(40000,0.6,\"Testing phase RL-->\")\n",
    "plt.legend(loc=0)\n",
    "\n",
    "\n",
    "\n",
    "converge_point = KneeLocator(range(0,max_episodes,1000), avg_reward_rl, direction='increasing') #knee locator\n",
    "print(\"The point of convergence for the RL agent is \",converge_point.knee)\n",
    "plt.axvline(converge_point.knee,color='r',linestyle='--')\n",
    "plt.annotate('6000',xy=(converge_point.knee,0.3),xytext=(converge_point.knee,0.3))"
   ]
  },
  {
   "cell_type": "markdown",
   "metadata": {},
   "source": [
    "## Accuracy table:\n"
   ]
  },
  {
   "cell_type": "code",
   "execution_count": 299,
   "metadata": {},
   "outputs": [
    {
     "data": {
      "text/html": [
       "<div>\n",
       "<style scoped>\n",
       "    .dataframe tbody tr th:only-of-type {\n",
       "        vertical-align: middle;\n",
       "    }\n",
       "\n",
       "    .dataframe tbody tr th {\n",
       "        vertical-align: top;\n",
       "    }\n",
       "\n",
       "    .dataframe thead th {\n",
       "        text-align: right;\n",
       "    }\n",
       "</style>\n",
       "<table border=\"1\" class=\"dataframe\">\n",
       "  <thead>\n",
       "    <tr style=\"text-align: right;\">\n",
       "      <th></th>\n",
       "      <th>random agent</th>\n",
       "      <th>RL agent</th>\n",
       "      <th>simple agent</th>\n",
       "    </tr>\n",
       "  </thead>\n",
       "  <tbody>\n",
       "    <tr>\n",
       "      <th>0</th>\n",
       "      <td>0.012001</td>\n",
       "      <td>0.227101</td>\n",
       "      <td>100</td>\n",
       "    </tr>\n",
       "    <tr>\n",
       "      <th>1</th>\n",
       "      <td>0.008000</td>\n",
       "      <td>17.468531</td>\n",
       "      <td>100</td>\n",
       "    </tr>\n",
       "    <tr>\n",
       "      <th>2</th>\n",
       "      <td>0.428000</td>\n",
       "      <td>83.355858</td>\n",
       "      <td>100</td>\n",
       "    </tr>\n",
       "    <tr>\n",
       "      <th>3</th>\n",
       "      <td>0.062000</td>\n",
       "      <td>63.128717</td>\n",
       "      <td>100</td>\n",
       "    </tr>\n",
       "    <tr>\n",
       "      <th>4</th>\n",
       "      <td>0.038000</td>\n",
       "      <td>61.734529</td>\n",
       "      <td>100</td>\n",
       "    </tr>\n",
       "    <tr>\n",
       "      <th>5</th>\n",
       "      <td>0.064000</td>\n",
       "      <td>78.180655</td>\n",
       "      <td>100</td>\n",
       "    </tr>\n",
       "    <tr>\n",
       "      <th>6</th>\n",
       "      <td>0.002000</td>\n",
       "      <td>58.822286</td>\n",
       "      <td>100</td>\n",
       "    </tr>\n",
       "    <tr>\n",
       "      <th>7</th>\n",
       "      <td>0.054000</td>\n",
       "      <td>60.327903</td>\n",
       "      <td>100</td>\n",
       "    </tr>\n",
       "  </tbody>\n",
       "</table>\n",
       "</div>"
      ],
      "text/plain": [
       "   random agent   RL agent  simple agent\n",
       "0      0.012001   0.227101           100\n",
       "1      0.008000  17.468531           100\n",
       "2      0.428000  83.355858           100\n",
       "3      0.062000  63.128717           100\n",
       "4      0.038000  61.734529           100\n",
       "5      0.064000  78.180655           100\n",
       "6      0.002000  58.822286           100\n",
       "7      0.054000  60.327903           100"
      ]
     },
     "execution_count": 299,
     "metadata": {},
     "output_type": "execute_result"
    }
   ],
   "source": [
    "accuracy_agents_df=pd.DataFrame()\n",
    "accuracy_agents_df['random agent']=accuracy_random\n",
    "accuracy_agents_df['RL agent']=accuracy_rl\n",
    "accuracy_agents_df['simple agent']=[100 for i in range(0,8)]\n",
    "accuracy_agents_df"
   ]
  },
  {
   "cell_type": "code",
   "execution_count": null,
   "metadata": {},
   "outputs": [],
   "source": []
  }
 ],
 "metadata": {
  "kernelspec": {
   "display_name": "Python 3",
   "language": "python",
   "name": "python3"
  },
  "language_info": {
   "codemirror_mode": {
    "name": "ipython",
    "version": 3
   },
   "file_extension": ".py",
   "mimetype": "text/x-python",
   "name": "python",
   "nbconvert_exporter": "python",
   "pygments_lexer": "ipython3",
   "version": "3.6.9"
  }
 },
 "nbformat": 4,
 "nbformat_minor": 2
}
